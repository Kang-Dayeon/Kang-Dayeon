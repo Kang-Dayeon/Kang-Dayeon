{
  "nbformat": 4,
  "nbformat_minor": 0,
  "metadata": {
    "colab": {
      "provenance": [],
      "toc_visible": true,
      "authorship_tag": "ABX9TyMaOYDPAyqNiA3iI8N/r+LI",
      "include_colab_link": true
    },
    "kernelspec": {
      "name": "python3",
      "display_name": "Python 3"
    },
    "language_info": {
      "name": "python"
    }
  },
  "cells": [
    {
      "cell_type": "markdown",
      "metadata": {
        "id": "view-in-github",
        "colab_type": "text"
      },
      "source": [
        "<a href=\"https://colab.research.google.com/github/Kang-Dayeon/Kang-Dayeon/blob/main/chap3test.ipynb\" target=\"_parent\"><img src=\"https://colab.research.google.com/assets/colab-badge.svg\" alt=\"Open In Colab\"/></a>"
      ]
    },
    {
      "cell_type": "markdown",
      "source": [
        "# **google colab을 이용한 python프로그래밍**\n",
        "마크다운 기반의 텍스트 입력 가능"
      ],
      "metadata": {
        "id": "FKLEBiPyKCPQ"
      }
    },
    {
      "cell_type": "code",
      "source": [
        "a = 10\n",
        "print(a)"
      ],
      "metadata": {
        "colab": {
          "base_uri": "https://localhost:8080/"
        },
        "id": "RZhphWq0J0QU",
        "outputId": "fc20c709-47ec-4948-b2e5-894c3c104a35"
      },
      "execution_count": null,
      "outputs": [
        {
          "output_type": "stream",
          "name": "stdout",
          "text": [
            "10\n"
          ]
        }
      ]
    },
    {
      "cell_type": "code",
      "source": [
        "a = 2 ** 2\n",
        "print(a)"
      ],
      "metadata": {
        "id": "HK0QSDReKKAM",
        "colab": {
          "base_uri": "https://localhost:8080/"
        },
        "outputId": "3b1a374e-6e69-4c62-bf83-4b2931767a6c"
      },
      "execution_count": 3,
      "outputs": [
        {
          "output_type": "stream",
          "name": "stdout",
          "text": [
            "4\n"
          ]
        }
      ]
    },
    {
      "cell_type": "code",
      "source": [
        "apple = 2\n",
        "banana = 3\n",
        "cranberry = 1\n",
        "detox = (banana ** 2 - 4 * apple * cranberry) // apple\n",
        "print(detox)"
      ],
      "metadata": {
        "colab": {
          "base_uri": "https://localhost:8080/"
        },
        "id": "WSKkWw1UAXZA",
        "outputId": "e410cbac-052f-4148-e05e-4fdf0d84e8b1"
      },
      "execution_count": 6,
      "outputs": [
        {
          "output_type": "stream",
          "name": "stdout",
          "text": [
            "0\n"
          ]
        }
      ]
    },
    {
      "cell_type": "code",
      "source": [
        "12 // 2"
      ],
      "metadata": {
        "colab": {
          "base_uri": "https://localhost:8080/"
        },
        "id": "6em46-x3BW3G",
        "outputId": "e839398f-6c70-4a45-b067-55c626db3fdb"
      },
      "execution_count": 11,
      "outputs": [
        {
          "output_type": "execute_result",
          "data": {
            "text/plain": [
              "6"
            ]
          },
          "metadata": {},
          "execution_count": 11
        }
      ]
    },
    {
      "cell_type": "markdown",
      "source": [
        "# 순차구조"
      ],
      "metadata": {
        "id": "aE_JjN2H89zB"
      }
    },
    {
      "cell_type": "markdown",
      "source": [
        "프로그램은 위에서 부터 아래로 순차적으로 실행된다."
      ],
      "metadata": {
        "id": "mQ1GEMp19kS8"
      }
    },
    {
      "cell_type": "code",
      "source": [
        "print(\"   *\")\n",
        "print(\"  ***\")\n",
        "print(\" *****\")\n",
        "print(\"*******\")"
      ],
      "metadata": {
        "colab": {
          "base_uri": "https://localhost:8080/"
        },
        "id": "8GbU9rn_6tXh",
        "outputId": "324e2c34-5e8a-4945-ac46-3d2c28e5e361"
      },
      "execution_count": 1,
      "outputs": [
        {
          "output_type": "stream",
          "name": "stdout",
          "text": [
            "   *\n",
            "  ***\n",
            " *****\n",
            "*******\n"
          ]
        }
      ]
    },
    {
      "cell_type": "markdown",
      "source": [
        "**사용자 압력 함수**\n",
        "\n",
        "📍input() : 사용자로부터 데이터를 입력받는 함수\n",
        " 1. 입력 데이터를 문자 데이터 타입으로 변환\n",
        " 2. 함수의 파라미터는 입력 안내문의 목적으로 사용"
      ],
      "metadata": {
        "id": "ibGwNIj79tyv"
      }
    },
    {
      "cell_type": "code",
      "source": [
        "rad = input(\"반지름 값을 입력하세요 : \")"
      ],
      "metadata": {
        "colab": {
          "base_uri": "https://localhost:8080/"
        },
        "id": "282Z0vHX9rOp",
        "outputId": "4531571f-c66a-4462-f833-32285d2a16d2"
      },
      "execution_count": 3,
      "outputs": [
        {
          "name": "stdout",
          "output_type": "stream",
          "text": [
            "반지름 값을 입력하세요 : 30\n"
          ]
        }
      ]
    },
    {
      "cell_type": "markdown",
      "source": [
        "원뿔 계산 프로그램 개선"
      ],
      "metadata": {
        "id": "S0pP0Zs6-YnA"
      }
    },
    {
      "cell_type": "code",
      "source": [
        "# 반지름, 높이 값 할당\n",
        "#문자열 타입 : str\n",
        "#소수타입 : float\n",
        "#정수 타입으로 타입 변환\n",
        "#함수의 중첩\n",
        "rad = int(input(\"반지름 값을 입력하세요 : \"))\n",
        "hei = int(input(\"높이 값을 입력하세요 : \"))\n",
        "\n",
        "#부피 계산\n",
        "vol = 1 / 3 * rad ** 2 + 3.14 * rad * hei\n",
        "#겉넓이 계산\n",
        "suf = 3.14 * rad ** 2 + 3.14 * rad * hei\n",
        "\n",
        "#**print 함수의 확장**\n",
        "#여러 개의 데이터를 단일 함수로 출력 가능\n",
        "#데이터 사이에 공백(기본값)이 자동으로 추가\n",
        "#sep=\"\" 옵션을 변경하여 공백 변경가능\n",
        "print(\"부피의 값은 \", vol, \"입니다.\", sep=\"\")\n",
        "print(\"겉넓이의 값은 \", suf, \"입니다.\", sep=\"\")"
      ],
      "metadata": {
        "colab": {
          "base_uri": "https://localhost:8080/"
        },
        "id": "nKaGHdcR-cow",
        "outputId": "fbf61cdf-e64b-45b7-dfdb-775ffa3896d9"
      },
      "execution_count": 10,
      "outputs": [
        {
          "output_type": "stream",
          "name": "stdout",
          "text": [
            "반지름 값을 입력하세요 : 30\n",
            "높이 값을 입력하세요 : 40\n",
            "부피의 값은 4068.0입니다.\n",
            "겉넓이의 값은 6594.0입니다.\n"
          ]
        }
      ]
    },
    {
      "cell_type": "markdown",
      "source": [
        "# 선택 구조\n",
        "\n",
        "\n",
        "\n"
      ],
      "metadata": {
        "id": "LARY-gCl3g8r"
      }
    },
    {
      "cell_type": "code",
      "source": [
        "# 반지름, 높이 값 할당\n",
        "rad = int(input(\"반지름 값을 입력하세요 : \"))\n",
        "hei = int(input(\"높이 값을 입력하세요 : \"))\n",
        "\n",
        "if rad > 0 and hei > 0 :\n",
        "    #부피 계산\n",
        "    vol = 1 / 3 * rad ** 2 + 3.14 * rad * hei\n",
        "    #겉넓이 계산\n",
        "    suf = 3.14 * rad ** 2 + 3.14 * rad * hei\n",
        "    print(\"부피의 값은 \", vol, \"입니다.\", sep=\"\")\n",
        "    print(\"겉넓이의 값은 \", suf, \"입니다.\", sep=\"\")\n",
        "else :\n",
        "    print(\"반지름과 높이의 값을 모두 양수로 입력해주세요.\")"
      ],
      "metadata": {
        "colab": {
          "base_uri": "https://localhost:8080/"
        },
        "id": "BfOvkYED3nya",
        "outputId": "eb8906b1-398b-46c3-8115-47921e6c66e3"
      },
      "execution_count": 2,
      "outputs": [
        {
          "output_type": "stream",
          "name": "stdout",
          "text": [
            "반지름 값을 입력하세요 : 20\n",
            "높이 값을 입력하세요 : 30\n",
            "부피의 값은 2017.3333333333335입니다.\n",
            "겉넓이의 값은 3140.0입니다.\n"
          ]
        }
      ]
    },
    {
      "cell_type": "code",
      "source": [
        "# 중첩구조\n",
        "# if 안에 또 다른 선택 구조가 있는것\n",
        "\n",
        "# 세 수 중에서 가장 큰 수를 찾는 프로그램\n",
        "A = int(input(\"A입력\"))\n",
        "B = int(input(\"B입력\"))\n",
        "C = int(input(\"C입력\"))\n",
        "\n",
        "if A > B :\n",
        "  if A > C :\n",
        "    print(A)\n",
        "  else :\n",
        "    print(C)\n",
        "else :\n",
        "  if B > C :\n",
        "    print(B)\n",
        "  else :\n",
        "    print(C)"
      ],
      "metadata": {
        "colab": {
          "base_uri": "https://localhost:8080/"
        },
        "id": "9L1nSixsCwaV",
        "outputId": "bedf6121-706f-4db6-98bf-3c6561058ff7"
      },
      "execution_count": 5,
      "outputs": [
        {
          "output_type": "stream",
          "name": "stdout",
          "text": [
            "A입력30\n",
            "B입력30\n",
            "C입력60\n",
            "60\n"
          ]
        }
      ]
    }
  ]
}